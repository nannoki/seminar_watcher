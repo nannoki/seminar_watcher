{
 "cells": [
  {
   "cell_type": "markdown",
   "metadata": {},
   "source": [
    "# 一時開発用。"
   ]
  },
  {
   "cell_type": "markdown",
   "metadata": {},
   "source": [
    "**参考** : [connpass APIリファレンス](https://connpass.com/about/api/)\n"
   ]
  },
  {
   "cell_type": "code",
   "execution_count": null,
   "metadata": {
    "collapsed": true
   },
   "outputs": [],
   "source": [
    "import requests\n",
    "import json\n",
    "import datetime\n",
    "import time\n",
    "import random\n",
    "import math\n",
    "# 年、月の計算はこれが必要。datetimeでは出来ない。\n",
    "from dateutil.relativedelta import relativedelta"
   ]
  },
  {
   "cell_type": "code",
   "execution_count": null,
   "metadata": {
    "scrolled": true
   },
   "outputs": [],
   "source": [
    "#  一時的にWIPフォルダでやっているから、一個上のディレクトリに抜ける必要がある。\n",
    "#  ちゃんと本体に組み込む時には不要。\n",
    "import sys\n",
    "sys.path.append('..')\n",
    "\n",
    "# 自作\n",
    "from setting import target"
   ]
  },
  {
   "cell_type": "code",
   "execution_count": null,
   "metadata": {
    "collapsed": true
   },
   "outputs": [],
   "source": [
    "# エンドポイント\n",
    "url = 'https://connpass.com/api/v1/event/'"
   ]
  },
  {
   "cell_type": "code",
   "execution_count": null,
   "metadata": {
    "collapsed": true
   },
   "outputs": [],
   "source": [
    "# API検索条件 ####################################\n",
    "# 開催場所\n",
    "location = '東京都'\n",
    "# 検索キーワード(or)\n",
    "# 検索結果が500を超えた分は、結果を取得できない。\n",
    "# キーワードをシャッフルして、検索結果数に偏りが内容にしようとする気休め。\n",
    "search_words = target.SEARCH_WORDS\n",
    "random.shuffle(search_words)\n",
    "# 今月を含め、何ヶ月先まで検索するか\n",
    "search_months = 3\n",
    "# 一度に取得するデータ件数。100で良い。（最小1, 最大100。apiの仕様。）\n",
    "nb_get_data = 100\n",
    "\n",
    "# システム設定 ###################################\n",
    "# 一度に検索するキーワード数（検索結果が多すぎるとエラー）。実績値で40程度。\n",
    "# 小さすぎると検索回数が増える。一度、アクセス過多で運営から注意を受けているので気をつかう。\n",
    "nb_search_words = min(math.ceil(len(search_words) / 2), 40)\n",
    "# get失敗時に中断するか(boolean)\n",
    "continue_on_error = False\n",
    "# リクエスト連投で空けるべき時間（秒）。１秒以上。\n",
    "request_sleep_sec = 2\n"
   ]
  },
  {
   "cell_type": "code",
   "execution_count": null,
   "metadata": {
    "collapsed": true
   },
   "outputs": [],
   "source": [
    "# 検索対象月のリスト作成\n",
    "today = datetime.date.today()\n",
    "ym = [(today + relativedelta(months=i)).strftime('%Y%m')\n",
    "      for i in range(search_months)]"
   ]
  },
  {
   "cell_type": "code",
   "execution_count": null,
   "metadata": {
    "collapsed": true
   },
   "outputs": [],
   "source": [
    "def get_response(url, params):\n",
    "    \"\"\"\n",
    "    リクエストを投げて、レスポンスを受け取る。\n",
    "    リクエストは必ずこの関数を使用することで、sleepを保証する。\n",
    "    \"\"\"\n",
    "    time.sleep(request_sleep_sec)\n",
    "    return requests.get(url, params=params)"
   ]
  },
  {
   "cell_type": "code",
   "execution_count": null,
   "metadata": {},
   "outputs": [],
   "source": [
    "def get_search_result(start, batch_start):\n",
    "    q = {'count': nb_get_data,   # 取得件数\n",
    "         'start': start,         # 検索の開始位置。結果セットを複数回に分けて取得しないといけないので。\n",
    "         'ym': ym ,              # イベント開催年月\n",
    "         'keyword': location,    #  キーワード (AND)\n",
    "         'keyword_or': target.SEARCH_WORDS[batch_start: batch_start + nb_search_words]  # キーワード (OR)\n",
    "        }\n",
    "    return get_response(url, params=q)"
   ]
  },
  {
   "cell_type": "code",
   "execution_count": null,
   "metadata": {},
   "outputs": [],
   "source": [
    "today = datetime.datetime.today()\n",
    "# 結果セット全体の中での処理開始位置\n",
    "for batch_start in list(range(len(search_words)))[: : nb_search_words]:\n",
    "    print('*' * 10, 'batch_start :', batch_start, '*' * 100)\n",
    "    start = 1\n",
    "    nb_all_result = sys.maxsize     # 後で更新\n",
    "    while start < nb_all_result:\n",
    "        r = get_search_result(start, batch_start)\n",
    "        # エラーチェック\n",
    "        if not r.ok:\n",
    "            if continue_on_error:\n",
    "                print('APIからのGETに失敗: [{}] {}'.format(r.status_code, r.reason))\n",
    "                print('エラーでも中断しない設定なので、監視を続けます。')\n",
    "                continue\n",
    "            else:\n",
    "                assert r.ok, 'APIからのGETに失敗: [{}] {}'.format(r.status_code, r.reason)\n",
    "        \n",
    "        # 大した処理ではないので、わかりやすさを優先して、リスト内包表記は使用しない\n",
    "        for event in r.json()['events']:\n",
    "            event_datetime = datetime.datetime.strptime(event['started_at'][:-6], '%Y-%m-%dT%H:%M:%S')\n",
    "            if today <= event_datetime:\n",
    "                print( event_datetime, event['title'], event['event_url'])\n",
    "\n",
    "        start += int(r.json()['results_returned'])\n",
    "        nb_all_result = int(r.json()['results_available'])   # 同じキーワードなら、連続して検索しても同じ\n"
   ]
  },
  {
   "cell_type": "code",
   "execution_count": null,
   "metadata": {},
   "outputs": [],
   "source": [
    "# all_events = ((event['started_at'], event['title'], event['event_url'])\n",
    "#               for event in r.json()['events']\n",
    "#               if today <= datetime.datetime.strptime(event['started_at'][:-6], '%Y-%m-%dT%H:%M:%S'))\n"
   ]
  },
  {
   "cell_type": "code",
   "execution_count": null,
   "metadata": {
    "collapsed": true
   },
   "outputs": [],
   "source": []
  }
 ],
 "metadata": {
  "kernelspec": {
   "display_name": "Python 3",
   "language": "python",
   "name": "python3"
  },
  "language_info": {
   "codemirror_mode": {
    "name": "ipython",
    "version": 3
   },
   "file_extension": ".py",
   "mimetype": "text/x-python",
   "name": "python",
   "nbconvert_exporter": "python",
   "pygments_lexer": "ipython3",
   "version": "3.5.2"
  }
 },
 "nbformat": 4,
 "nbformat_minor": 1
}
